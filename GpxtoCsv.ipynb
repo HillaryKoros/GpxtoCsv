{
 "cells": [
  {
   "cell_type": "code",
   "execution_count": 146,
   "metadata": {},
   "outputs": [],
   "source": [
    "#IMPORT NECESSARY PACKAGES\n",
    "import gpxpy\n",
    "import matplotlib.pyplot as plt\n",
    "import datetime\n",
    "from math import sqrt, floor\n",
    "import numpy as np\n",
    "import pandas as pd\n",
    "import geopandas\n",
    "from shapely.geometry import Point,Polygon"
   ]
  },
  {
   "cell_type": "code",
   "execution_count": 148,
   "metadata": {},
   "outputs": [],
   "source": [
    "#LOAD DATA\n",
    "gpx_file = open('data/20210519234904-14242-Proposed data.gpx', 'r')\n",
    "gpx = gpxpy.parse(gpx_file)"
   ]
  },
  {
   "cell_type": "code",
   "execution_count": 149,
   "metadata": {},
   "outputs": [
    {
     "data": {
      "text/plain": [
       "11"
      ]
     },
     "execution_count": 149,
     "metadata": {},
     "output_type": "execute_result"
    }
   ],
   "source": [
    "#CHECK LENGTH\n",
    "len(gpx.tracks)\n",
    "len(gpx.tracks[0].segments)\n",
    "len(gpx.tracks[0].segments[0].points)"
   ]
  },
  {
   "cell_type": "code",
   "execution_count": 150,
   "metadata": {},
   "outputs": [],
   "source": [
    "#GET GPS TRACKS,SEGMENTS AND POINTS\n",
    "data = gpx.tracks[0].segments[0].points"
   ]
  },
  {
   "cell_type": "code",
   "execution_count": 151,
   "metadata": {},
   "outputs": [],
   "source": [
    "## Start Position\n",
    "start = data[0]\n",
    "## End Position\n",
    "finish = data[-1]"
   ]
  },
  {
   "cell_type": "code",
   "execution_count": 152,
   "metadata": {},
   "outputs": [],
   "source": [
    "#CREATE A PANDAS DATAFRAME\n",
    "df = pd.DataFrame(columns=['lon', 'lat', 'ele'])\n",
    "for point in data:\n",
    "    df = df.append({'lon': point.longitude, 'lat' : point.latitude, 'ele' : point.elevation}, ignore_index=True)"
   ]
  },
  {
   "cell_type": "code",
   "execution_count": 153,
   "metadata": {},
   "outputs": [
    {
     "data": {
      "text/html": [
       "<div>\n",
       "<style scoped>\n",
       "    .dataframe tbody tr th:only-of-type {\n",
       "        vertical-align: middle;\n",
       "    }\n",
       "\n",
       "    .dataframe tbody tr th {\n",
       "        vertical-align: top;\n",
       "    }\n",
       "\n",
       "    .dataframe thead th {\n",
       "        text-align: right;\n",
       "    }\n",
       "</style>\n",
       "<table border=\"1\" class=\"dataframe\">\n",
       "  <thead>\n",
       "    <tr style=\"text-align: right;\">\n",
       "      <th></th>\n",
       "      <th>lon</th>\n",
       "      <th>lat</th>\n",
       "      <th>ele</th>\n",
       "    </tr>\n",
       "  </thead>\n",
       "  <tbody>\n",
       "    <tr>\n",
       "      <th>0</th>\n",
       "      <td>35.336337</td>\n",
       "      <td>-0.797124</td>\n",
       "      <td>1904.768</td>\n",
       "    </tr>\n",
       "    <tr>\n",
       "      <th>1</th>\n",
       "      <td>35.337059</td>\n",
       "      <td>-0.796586</td>\n",
       "      <td>1907.660</td>\n",
       "    </tr>\n",
       "    <tr>\n",
       "      <th>2</th>\n",
       "      <td>35.337534</td>\n",
       "      <td>-0.797069</td>\n",
       "      <td>1902.705</td>\n",
       "    </tr>\n",
       "    <tr>\n",
       "      <th>3</th>\n",
       "      <td>35.337815</td>\n",
       "      <td>-0.797283</td>\n",
       "      <td>1902.272</td>\n",
       "    </tr>\n",
       "    <tr>\n",
       "      <th>4</th>\n",
       "      <td>35.337488</td>\n",
       "      <td>-0.797555</td>\n",
       "      <td>1898.250</td>\n",
       "    </tr>\n",
       "    <tr>\n",
       "      <th>5</th>\n",
       "      <td>35.337302</td>\n",
       "      <td>-0.797652</td>\n",
       "      <td>1899.192</td>\n",
       "    </tr>\n",
       "    <tr>\n",
       "      <th>6</th>\n",
       "      <td>35.337108</td>\n",
       "      <td>-0.797710</td>\n",
       "      <td>1899.809</td>\n",
       "    </tr>\n",
       "    <tr>\n",
       "      <th>7</th>\n",
       "      <td>35.336862</td>\n",
       "      <td>-0.797812</td>\n",
       "      <td>1900.181</td>\n",
       "    </tr>\n",
       "    <tr>\n",
       "      <th>8</th>\n",
       "      <td>35.336772</td>\n",
       "      <td>-0.797742</td>\n",
       "      <td>1900.589</td>\n",
       "    </tr>\n",
       "    <tr>\n",
       "      <th>9</th>\n",
       "      <td>35.336498</td>\n",
       "      <td>-0.797420</td>\n",
       "      <td>1903.174</td>\n",
       "    </tr>\n",
       "    <tr>\n",
       "      <th>10</th>\n",
       "      <td>35.336337</td>\n",
       "      <td>-0.797124</td>\n",
       "      <td>1904.768</td>\n",
       "    </tr>\n",
       "  </tbody>\n",
       "</table>\n",
       "</div>"
      ],
      "text/plain": [
       "          lon       lat       ele\n",
       "0   35.336337 -0.797124  1904.768\n",
       "1   35.337059 -0.796586  1907.660\n",
       "2   35.337534 -0.797069  1902.705\n",
       "3   35.337815 -0.797283  1902.272\n",
       "4   35.337488 -0.797555  1898.250\n",
       "5   35.337302 -0.797652  1899.192\n",
       "6   35.337108 -0.797710  1899.809\n",
       "7   35.336862 -0.797812  1900.181\n",
       "8   35.336772 -0.797742  1900.589\n",
       "9   35.336498 -0.797420  1903.174\n",
       "10  35.336337 -0.797124  1904.768"
      ]
     },
     "execution_count": 153,
     "metadata": {},
     "output_type": "execute_result"
    }
   ],
   "source": [
    "#READ\n",
    "df"
   ]
  },
  {
   "cell_type": "code",
   "execution_count": 154,
   "metadata": {},
   "outputs": [
    {
     "data": {
      "text/plain": [
       "[<matplotlib.lines.Line2D at 0x1ee7efd62e0>]"
      ]
     },
     "execution_count": 154,
     "metadata": {},
     "output_type": "execute_result"
    },
    {
     "data": {
      "image/png": "[encoded data removed]",
      "text/plain": [
       "<Figure size 432x288 with 1 Axes>"
      ]
     },
     "metadata": {
      "needs_background": "light"
     },
     "output_type": "display_data"
    }
   ],
   "source": [
    "#PLOT\n",
    "plt.plot(df['lon'], df['lat'])"
   ]
  },
  {
   "cell_type": "code",
   "execution_count": 155,
   "metadata": {},
   "outputs": [
    {
     "data": {
      "text/plain": [
       "[<matplotlib.lines.Line2D at 0x1ee7efe0e50>]"
      ]
     },
     "execution_count": 155,
     "metadata": {},
     "output_type": "execute_result"
    },
    {
     "data": {
      "image/png": "[encoded data removed]",
      "text/plain": [
       "<Figure size 432x288 with 1 Axes>"
      ]
     },
     "metadata": {
      "needs_background": "light"
     },
     "output_type": "display_data"
    }
   ],
   "source": [
    "#PLOT ELEVATION\n",
    "plt.plot(df['ele'])"
   ]
  },
  {
   "cell_type": "code",
   "execution_count": 156,
   "metadata": {},
   "outputs": [],
   "source": [
    "#CREATE A GEODATAFRAME\n",
    "gdf = geopandas.GeoDataFrame(\n",
    "    df, geometry=geopandas.points_from_xy(df.lon, df.lat,df.ele))"
   ]
  },
  {
   "cell_type": "code",
   "execution_count": 157,
   "metadata": {},
   "outputs": [
    {
     "name": "stdout",
     "output_type": "stream",
     "text": [
      "         lon       lat       ele                                geometry\n",
      "0  35.336337 -0.797124  1904.768  POINT Z (35.33634 -0.79712 1904.76800)\n",
      "1  35.337059 -0.796586  1907.660  POINT Z (35.33706 -0.79659 1907.66000)\n",
      "2  35.337534 -0.797069  1902.705  POINT Z (35.33753 -0.79707 1902.70500)\n",
      "3  35.337815 -0.797283  1902.272  POINT Z (35.33782 -0.79728 1902.27200)\n",
      "4  35.337488 -0.797555  1898.250  POINT Z (35.33749 -0.79756 1898.25000)\n"
     ]
    }
   ],
   "source": [
    "print(gdf.head())"
   ]
  },
  {
   "cell_type": "code",
   "execution_count": 158,
   "metadata": {},
   "outputs": [
    {
     "name": "stderr",
     "output_type": "stream",
     "text": [
      "C:\\Users\\USER\\miniconda3\\envs\\gee\\lib\\site-packages\\pyproj\\crs\\crs.py:53: FutureWarning: '+init=<authority>:<code>' syntax is deprecated. '<authority>:<code>' is the preferred initialization method. When making the change, be mindful of axis order changes: https://pyproj4.github.io/pyproj/stable/gotchas.html#axis-order-changes-in-proj-6\n",
      "  return _prepare_from_string(\" \".join(pjargs))\n"
     ]
    }
   ],
   "source": [
    "#PROJECT\n",
    "gdf.crs={'init': 'epsg:4326'} "
   ]
  },
  {
   "cell_type": "code",
   "execution_count": 159,
   "metadata": {},
   "outputs": [
    {
     "data": {
      "text/plain": [
       "<Geographic 2D CRS: +init=epsg:4326 +type=crs>\n",
       "Name: WGS 84\n",
       "Axis Info [ellipsoidal]:\n",
       "- lon[east]: Longitude (degree)\n",
       "- lat[north]: Latitude (degree)\n",
       "Area of Use:\n",
       "- name: World.\n",
       "- bounds: (-180.0, -90.0, 180.0, 90.0)\n",
       "Datum: World Geodetic System 1984 ensemble\n",
       "- Ellipsoid: WGS 84\n",
       "- Prime Meridian: Greenwich"
      ]
     },
     "execution_count": 159,
     "metadata": {},
     "output_type": "execute_result"
    }
   ],
   "source": [
    "gdf.crs"
   ]
  },
  {
   "cell_type": "code",
   "execution_count": 160,
   "metadata": {},
   "outputs": [],
   "source": [
    "#PROJECT TO ZONE 36S\n",
    "geo_df = gdf.to_crs({'init': 'epsg:32736'})"
   ]
  },
  {
   "cell_type": "code",
   "execution_count": 161,
   "metadata": {},
   "outputs": [
    {
     "data": {
      "text/plain": [
       "<Projected CRS: EPSG:32736>\n",
       "Name: WGS 84 / UTM zone 36S\n",
       "Axis Info [cartesian]:\n",
       "- E[east]: Easting (metre)\n",
       "- N[north]: Northing (metre)\n",
       "Area of Use:\n",
       "- name: Between 30°E and 36°E, southern hemisphere between 80°S and equator, onshore and offshore. Burundi. Eswatini (Swaziland). Kenya. Malawi. Mozambique. Rwanda. South Africa. Tanzania. Uganda. Zambia. Zimbabwe.\n",
       "- bounds: (30.0, -80.0, 36.0, 0.0)\n",
       "Coordinate Operation:\n",
       "- name: UTM zone 36S\n",
       "- method: Transverse Mercator\n",
       "Datum: World Geodetic System 1984 ensemble\n",
       "- Ellipsoid: WGS 84\n",
       "- Prime Meridian: Greenwich"
      ]
     },
     "execution_count": 161,
     "metadata": {},
     "output_type": "execute_result"
    }
   ],
   "source": [
    "geo_df.crs"
   ]
  },
  {
   "cell_type": "code",
   "execution_count": 162,
   "metadata": {},
   "outputs": [
    {
     "data": {
      "text/plain": [
       "(11, 4)"
      ]
     },
     "execution_count": 162,
     "metadata": {},
     "output_type": "execute_result"
    }
   ],
   "source": [
    "geo_df.shape"
   ]
  },
  {
   "cell_type": "code",
   "execution_count": 164,
   "metadata": {},
   "outputs": [
    {
     "data": {
      "text/html": [
       "<div>\n",
       "<style scoped>\n",
       "    .dataframe tbody tr th:only-of-type {\n",
       "        vertical-align: middle;\n",
       "    }\n",
       "\n",
       "    .dataframe tbody tr th {\n",
       "        vertical-align: top;\n",
       "    }\n",
       "\n",
       "    .dataframe thead th {\n",
       "        text-align: right;\n",
       "    }\n",
       "</style>\n",
       "<table border=\"1\" class=\"dataframe\">\n",
       "  <thead>\n",
       "    <tr style=\"text-align: right;\">\n",
       "      <th></th>\n",
       "      <th>lon</th>\n",
       "      <th>lat</th>\n",
       "      <th>ele</th>\n",
       "      <th>geometry</th>\n",
       "    </tr>\n",
       "  </thead>\n",
       "  <tbody>\n",
       "    <tr>\n",
       "      <th>0</th>\n",
       "      <td>35.336337</td>\n",
       "      <td>-0.797124</td>\n",
       "      <td>1904.768</td>\n",
       "      <td>POINT Z (760023.320 9911820.022 1904.768)</td>\n",
       "    </tr>\n",
       "    <tr>\n",
       "      <th>1</th>\n",
       "      <td>35.337059</td>\n",
       "      <td>-0.796586</td>\n",
       "      <td>1907.660</td>\n",
       "      <td>POINT Z (760103.804 9911879.460 1907.660)</td>\n",
       "    </tr>\n",
       "    <tr>\n",
       "      <th>2</th>\n",
       "      <td>35.337534</td>\n",
       "      <td>-0.797069</td>\n",
       "      <td>1902.705</td>\n",
       "      <td>POINT Z (760156.626 9911826.016 1902.705)</td>\n",
       "    </tr>\n",
       "    <tr>\n",
       "      <th>3</th>\n",
       "      <td>35.337815</td>\n",
       "      <td>-0.797283</td>\n",
       "      <td>1902.272</td>\n",
       "      <td>POINT Z (760187.977 9911802.326 1902.272)</td>\n",
       "    </tr>\n",
       "    <tr>\n",
       "      <th>4</th>\n",
       "      <td>35.337488</td>\n",
       "      <td>-0.797555</td>\n",
       "      <td>1898.250</td>\n",
       "      <td>POINT Z (760151.503 9911772.200 1898.250)</td>\n",
       "    </tr>\n",
       "    <tr>\n",
       "      <th>5</th>\n",
       "      <td>35.337302</td>\n",
       "      <td>-0.797652</td>\n",
       "      <td>1899.192</td>\n",
       "      <td>POINT Z (760130.825 9911761.590 1899.192)</td>\n",
       "    </tr>\n",
       "    <tr>\n",
       "      <th>6</th>\n",
       "      <td>35.337108</td>\n",
       "      <td>-0.797710</td>\n",
       "      <td>1899.809</td>\n",
       "      <td>POINT Z (760109.130 9911755.128 1899.809)</td>\n",
       "    </tr>\n",
       "    <tr>\n",
       "      <th>7</th>\n",
       "      <td>35.336862</td>\n",
       "      <td>-0.797812</td>\n",
       "      <td>1900.181</td>\n",
       "      <td>POINT Z (760081.730 9911743.914 1900.181)</td>\n",
       "    </tr>\n",
       "    <tr>\n",
       "      <th>8</th>\n",
       "      <td>35.336772</td>\n",
       "      <td>-0.797742</td>\n",
       "      <td>1900.589</td>\n",
       "      <td>POINT Z (760071.755 9911751.608 1900.589)</td>\n",
       "    </tr>\n",
       "    <tr>\n",
       "      <th>9</th>\n",
       "      <td>35.336498</td>\n",
       "      <td>-0.797420</td>\n",
       "      <td>1903.174</td>\n",
       "      <td>POINT Z (760041.225 9911787.235 1903.174)</td>\n",
       "    </tr>\n",
       "    <tr>\n",
       "      <th>10</th>\n",
       "      <td>35.336337</td>\n",
       "      <td>-0.797124</td>\n",
       "      <td>1904.768</td>\n",
       "      <td>POINT Z (760023.320 9911820.022 1904.768)</td>\n",
       "    </tr>\n",
       "  </tbody>\n",
       "</table>\n",
       "</div>"
      ],
      "text/plain": [
       "          lon       lat       ele                                   geometry\n",
       "0   35.336337 -0.797124  1904.768  POINT Z (760023.320 9911820.022 1904.768)\n",
       "1   35.337059 -0.796586  1907.660  POINT Z (760103.804 9911879.460 1907.660)\n",
       "2   35.337534 -0.797069  1902.705  POINT Z (760156.626 9911826.016 1902.705)\n",
       "3   35.337815 -0.797283  1902.272  POINT Z (760187.977 9911802.326 1902.272)\n",
       "4   35.337488 -0.797555  1898.250  POINT Z (760151.503 9911772.200 1898.250)\n",
       "5   35.337302 -0.797652  1899.192  POINT Z (760130.825 9911761.590 1899.192)\n",
       "6   35.337108 -0.797710  1899.809  POINT Z (760109.130 9911755.128 1899.809)\n",
       "7   35.336862 -0.797812  1900.181  POINT Z (760081.730 9911743.914 1900.181)\n",
       "8   35.336772 -0.797742  1900.589  POINT Z (760071.755 9911751.608 1900.589)\n",
       "9   35.336498 -0.797420  1903.174  POINT Z (760041.225 9911787.235 1903.174)\n",
       "10  35.336337 -0.797124  1904.768  POINT Z (760023.320 9911820.022 1904.768)"
      ]
     },
     "execution_count": 164,
     "metadata": {},
     "output_type": "execute_result"
    }
   ],
   "source": [
    "geo_df"
   ]
  },
  {
   "cell_type": "code",
   "execution_count": 165,
   "metadata": {},
   "outputs": [
    {
     "data": {
      "text/plain": [
       "<Projected CRS: EPSG:32736>\n",
       "Name: WGS 84 / UTM zone 36S\n",
       "Axis Info [cartesian]:\n",
       "- E[east]: Easting (metre)\n",
       "- N[north]: Northing (metre)\n",
       "Area of Use:\n",
       "- name: Between 30°E and 36°E, southern hemisphere between 80°S and equator, onshore and offshore. Burundi. Eswatini (Swaziland). Kenya. Malawi. Mozambique. Rwanda. South Africa. Tanzania. Uganda. Zambia. Zimbabwe.\n",
       "- bounds: (30.0, -80.0, 36.0, 0.0)\n",
       "Coordinate Operation:\n",
       "- name: UTM zone 36S\n",
       "- method: Transverse Mercator\n",
       "Datum: World Geodetic System 1984 ensemble\n",
       "- Ellipsoid: WGS 84\n",
       "- Prime Meridian: Greenwich"
      ]
     },
     "execution_count": 165,
     "metadata": {},
     "output_type": "execute_result"
    }
   ],
   "source": [
    "geo_df.crs"
   ]
  },
  {
   "cell_type": "code",
   "execution_count": 169,
   "metadata": {},
   "outputs": [
    {
     "data": {
      "text/html": [
       "<div>\n",
       "<style scoped>\n",
       "    .dataframe tbody tr th:only-of-type {\n",
       "        vertical-align: middle;\n",
       "    }\n",
       "\n",
       "    .dataframe tbody tr th {\n",
       "        vertical-align: top;\n",
       "    }\n",
       "\n",
       "    .dataframe thead th {\n",
       "        text-align: right;\n",
       "    }\n",
       "</style>\n",
       "<table border=\"1\" class=\"dataframe\">\n",
       "  <thead>\n",
       "    <tr style=\"text-align: right;\">\n",
       "      <th></th>\n",
       "      <th>lon</th>\n",
       "      <th>lat</th>\n",
       "      <th>ele</th>\n",
       "      <th>geometry</th>\n",
       "    </tr>\n",
       "  </thead>\n",
       "  <tbody>\n",
       "    <tr>\n",
       "      <th>0</th>\n",
       "      <td>35.336337</td>\n",
       "      <td>-0.797124</td>\n",
       "      <td>1904.768</td>\n",
       "      <td>POINT Z (760023.320 9911820.022 1904.768)</td>\n",
       "    </tr>\n",
       "    <tr>\n",
       "      <th>1</th>\n",
       "      <td>35.337059</td>\n",
       "      <td>-0.796586</td>\n",
       "      <td>1907.660</td>\n",
       "      <td>POINT Z (760103.804 9911879.460 1907.660)</td>\n",
       "    </tr>\n",
       "    <tr>\n",
       "      <th>2</th>\n",
       "      <td>35.337534</td>\n",
       "      <td>-0.797069</td>\n",
       "      <td>1902.705</td>\n",
       "      <td>POINT Z (760156.626 9911826.016 1902.705)</td>\n",
       "    </tr>\n",
       "    <tr>\n",
       "      <th>3</th>\n",
       "      <td>35.337815</td>\n",
       "      <td>-0.797283</td>\n",
       "      <td>1902.272</td>\n",
       "      <td>POINT Z (760187.977 9911802.326 1902.272)</td>\n",
       "    </tr>\n",
       "    <tr>\n",
       "      <th>4</th>\n",
       "      <td>35.337488</td>\n",
       "      <td>-0.797555</td>\n",
       "      <td>1898.250</td>\n",
       "      <td>POINT Z (760151.503 9911772.200 1898.250)</td>\n",
       "    </tr>\n",
       "    <tr>\n",
       "      <th>5</th>\n",
       "      <td>35.337302</td>\n",
       "      <td>-0.797652</td>\n",
       "      <td>1899.192</td>\n",
       "      <td>POINT Z (760130.825 9911761.590 1899.192)</td>\n",
       "    </tr>\n",
       "    <tr>\n",
       "      <th>6</th>\n",
       "      <td>35.337108</td>\n",
       "      <td>-0.797710</td>\n",
       "      <td>1899.809</td>\n",
       "      <td>POINT Z (760109.130 9911755.128 1899.809)</td>\n",
       "    </tr>\n",
       "    <tr>\n",
       "      <th>7</th>\n",
       "      <td>35.336862</td>\n",
       "      <td>-0.797812</td>\n",
       "      <td>1900.181</td>\n",
       "      <td>POINT Z (760081.730 9911743.914 1900.181)</td>\n",
       "    </tr>\n",
       "    <tr>\n",
       "      <th>8</th>\n",
       "      <td>35.336772</td>\n",
       "      <td>-0.797742</td>\n",
       "      <td>1900.589</td>\n",
       "      <td>POINT Z (760071.755 9911751.608 1900.589)</td>\n",
       "    </tr>\n",
       "    <tr>\n",
       "      <th>9</th>\n",
       "      <td>35.336498</td>\n",
       "      <td>-0.797420</td>\n",
       "      <td>1903.174</td>\n",
       "      <td>POINT Z (760041.225 9911787.235 1903.174)</td>\n",
       "    </tr>\n",
       "    <tr>\n",
       "      <th>10</th>\n",
       "      <td>35.336337</td>\n",
       "      <td>-0.797124</td>\n",
       "      <td>1904.768</td>\n",
       "      <td>POINT Z (760023.320 9911820.022 1904.768)</td>\n",
       "    </tr>\n",
       "  </tbody>\n",
       "</table>\n",
       "</div>"
      ],
      "text/plain": [
       "          lon       lat       ele                                   geometry\n",
       "0   35.336337 -0.797124  1904.768  POINT Z (760023.320 9911820.022 1904.768)\n",
       "1   35.337059 -0.796586  1907.660  POINT Z (760103.804 9911879.460 1907.660)\n",
       "2   35.337534 -0.797069  1902.705  POINT Z (760156.626 9911826.016 1902.705)\n",
       "3   35.337815 -0.797283  1902.272  POINT Z (760187.977 9911802.326 1902.272)\n",
       "4   35.337488 -0.797555  1898.250  POINT Z (760151.503 9911772.200 1898.250)\n",
       "5   35.337302 -0.797652  1899.192  POINT Z (760130.825 9911761.590 1899.192)\n",
       "6   35.337108 -0.797710  1899.809  POINT Z (760109.130 9911755.128 1899.809)\n",
       "7   35.336862 -0.797812  1900.181  POINT Z (760081.730 9911743.914 1900.181)\n",
       "8   35.336772 -0.797742  1900.589  POINT Z (760071.755 9911751.608 1900.589)\n",
       "9   35.336498 -0.797420  1903.174  POINT Z (760041.225 9911787.235 1903.174)\n",
       "10  35.336337 -0.797124  1904.768  POINT Z (760023.320 9911820.022 1904.768)"
      ]
     },
     "execution_count": 169,
     "metadata": {},
     "output_type": "execute_result"
    }
   ],
   "source": [
    "geo_df"
   ]
  },
  {
   "cell_type": "code",
   "execution_count": 170,
   "metadata": {},
   "outputs": [],
   "source": [
    "#get projected values from geometry\n",
    "geo_df['x'] = None\n",
    "geo_df['y'] = None\n",
    "geo_df['e'] = None\n",
    "\n",
    "\n",
    "geo_df['x'] = geo_df.geometry.apply(lambda x: x.x)\n",
    "geo_df['y'] = geo_df.geometry.apply(lambda x: x.y)\n",
    "geo_df['e'] = geo_df.geometry.apply(lambda x: x.z)"
   ]
  },
  {
   "cell_type": "code",
   "execution_count": 171,
   "metadata": {},
   "outputs": [],
   "source": [
    "coordinate_list = [(x,y,e) for x,y,e in zip(geo_df.x , geo_df.y,geo_df.e)]"
   ]
  },
  {
   "cell_type": "code",
   "execution_count": 173,
   "metadata": {
    "scrolled": true
   },
   "outputs": [
    {
     "data": {
      "text/plain": [
       "[(760023.3204170881, 9911820.02197887, 1904.768),\n",
       " (760103.8037010281, 9911879.460099561, 1907.66),\n",
       " (760156.6257695933, 9911826.016064063, 1902.705),\n",
       " (760187.9773967445, 9911802.326053752, 1902.272),\n",
       " (760151.5033769442, 9911772.200143933, 1898.25),\n",
       " (760130.8249364771, 9911761.589770054, 1899.192),\n",
       " (760109.1303804357, 9911755.12767041, 1899.809),\n",
       " (760081.7303998696, 9911743.914131414, 1900.181),\n",
       " (760071.7550257633, 9911751.608199755, 1900.589),\n",
       " (760041.2247859068, 9911787.23492929, 1903.174),\n",
       " (760023.3204170881, 9911820.02197887, 1904.768)]"
      ]
     },
     "execution_count": 173,
     "metadata": {},
     "output_type": "execute_result"
    }
   ],
   "source": [
    "coordinate_list"
   ]
  },
  {
   "cell_type": "code",
   "execution_count": 174,
   "metadata": {},
   "outputs": [],
   "source": [
    "#create list\n",
    "rows=[['760023.3204170881', '9911820.02197887', '1904.768'],\n",
    "      ['760103.8037010281', '9911879.460099561', '1907.66'],\n",
    " ['760156.6257695933', '9911826.016064063', '1902.705'],\n",
    " ['760187.9773967445', '9911802.326053752', '1902.272'],\n",
    " ['760151.5033769442', '9911772.200143933', '1898.25'],\n",
    " ['760130.8249364771', '9911761.589770054', '1899.192'],\n",
    " ['760109.1303804357', '9911755.12767041', '1899.809'],\n",
    " ['760081.7303998696','9911743.914131414', '1900.181'],\n",
    " ['760071.7550257633', '9911751.608199755', '1900.589'],\n",
    " ['760041.2247859068', '9911787.23492929', '1903.174'],\n",
    " ['760023.3204170881', '9911820.02197887', '1904.768']]"
   ]
  },
  {
   "cell_type": "code",
   "execution_count": 175,
   "metadata": {},
   "outputs": [
    {
     "data": {
      "text/html": [
       "<div>\n",
       "<style scoped>\n",
       "    .dataframe tbody tr th:only-of-type {\n",
       "        vertical-align: middle;\n",
       "    }\n",
       "\n",
       "    .dataframe tbody tr th {\n",
       "        vertical-align: top;\n",
       "    }\n",
       "\n",
       "    .dataframe thead th {\n",
       "        text-align: right;\n",
       "    }\n",
       "</style>\n",
       "<table border=\"1\" class=\"dataframe\">\n",
       "  <thead>\n",
       "    <tr style=\"text-align: right;\">\n",
       "      <th></th>\n",
       "      <th>0</th>\n",
       "      <th>1</th>\n",
       "      <th>2</th>\n",
       "    </tr>\n",
       "  </thead>\n",
       "  <tbody>\n",
       "    <tr>\n",
       "      <th>0</th>\n",
       "      <td>760023.3204170881</td>\n",
       "      <td>9911820.02197887</td>\n",
       "      <td>1904.768</td>\n",
       "    </tr>\n",
       "    <tr>\n",
       "      <th>1</th>\n",
       "      <td>760103.8037010281</td>\n",
       "      <td>9911879.460099561</td>\n",
       "      <td>1907.66</td>\n",
       "    </tr>\n",
       "    <tr>\n",
       "      <th>2</th>\n",
       "      <td>760156.6257695933</td>\n",
       "      <td>9911826.016064063</td>\n",
       "      <td>1902.705</td>\n",
       "    </tr>\n",
       "    <tr>\n",
       "      <th>3</th>\n",
       "      <td>760187.9773967445</td>\n",
       "      <td>9911802.326053752</td>\n",
       "      <td>1902.272</td>\n",
       "    </tr>\n",
       "    <tr>\n",
       "      <th>4</th>\n",
       "      <td>760151.5033769442</td>\n",
       "      <td>9911772.200143933</td>\n",
       "      <td>1898.25</td>\n",
       "    </tr>\n",
       "    <tr>\n",
       "      <th>5</th>\n",
       "      <td>760130.8249364771</td>\n",
       "      <td>9911761.589770054</td>\n",
       "      <td>1899.192</td>\n",
       "    </tr>\n",
       "    <tr>\n",
       "      <th>6</th>\n",
       "      <td>760109.1303804357</td>\n",
       "      <td>9911755.12767041</td>\n",
       "      <td>1899.809</td>\n",
       "    </tr>\n",
       "    <tr>\n",
       "      <th>7</th>\n",
       "      <td>760081.7303998696</td>\n",
       "      <td>9911743.914131414</td>\n",
       "      <td>1900.181</td>\n",
       "    </tr>\n",
       "    <tr>\n",
       "      <th>8</th>\n",
       "      <td>760071.7550257633</td>\n",
       "      <td>9911751.608199755</td>\n",
       "      <td>1900.589</td>\n",
       "    </tr>\n",
       "    <tr>\n",
       "      <th>9</th>\n",
       "      <td>760041.2247859068</td>\n",
       "      <td>9911787.23492929</td>\n",
       "      <td>1903.174</td>\n",
       "    </tr>\n",
       "    <tr>\n",
       "      <th>10</th>\n",
       "      <td>760023.3204170881</td>\n",
       "      <td>9911820.02197887</td>\n",
       "      <td>1904.768</td>\n",
       "    </tr>\n",
       "  </tbody>\n",
       "</table>\n",
       "</div>"
      ],
      "text/plain": [
       "                    0                  1         2\n",
       "0   760023.3204170881   9911820.02197887  1904.768\n",
       "1   760103.8037010281  9911879.460099561   1907.66\n",
       "2   760156.6257695933  9911826.016064063  1902.705\n",
       "3   760187.9773967445  9911802.326053752  1902.272\n",
       "4   760151.5033769442  9911772.200143933   1898.25\n",
       "5   760130.8249364771  9911761.589770054  1899.192\n",
       "6   760109.1303804357   9911755.12767041  1899.809\n",
       "7   760081.7303998696  9911743.914131414  1900.181\n",
       "8   760071.7550257633  9911751.608199755  1900.589\n",
       "9   760041.2247859068   9911787.23492929  1903.174\n",
       "10  760023.3204170881   9911820.02197887  1904.768"
      ]
     },
     "execution_count": 175,
     "metadata": {},
     "output_type": "execute_result"
    }
   ],
   "source": [
    "#convert list to df\n",
    "my_df = pd.DataFrame(rows)\n",
    "my_df "
   ]
  },
  {
   "cell_type": "code",
   "execution_count": 142,
   "metadata": {},
   "outputs": [],
   "source": [
    "#export\n",
    "my_df.to_csv('my_csv.csv', index=False, header=False)"
   ]
  },
  {
   "cell_type": "code",
   "execution_count": null,
   "metadata": {},
   "outputs": [],
   "source": []
  }
 ],
 "metadata": {
  "kernelspec": {
   "display_name": "Python 3",
   "language": "python",
   "name": "python3"
  },
  "language_info": {
   "codemirror_mode": {
    "name": "ipython",
    "version": 3
   },
   "file_extension": ".py",
   "mimetype": "text/x-python",
   "name": "python",
   "nbconvert_exporter": "python",
   "pygments_lexer": "ipython3",
   "version": "3.9.2"
  }
 },
 "nbformat": 4,
 "nbformat_minor": 4
}
